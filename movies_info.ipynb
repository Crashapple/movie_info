{
 "cells": [
  {
   "cell_type": "code",
   "execution_count": 14,
   "metadata": {},
   "outputs": [],
   "source": [
    "# Import dependencies\n",
    "from pymongo import MongoClient\n",
    "from pprint import pprint\n",
    "import pandas as pd"
   ]
  },
  {
   "cell_type": "code",
   "execution_count": 15,
   "metadata": {},
   "outputs": [],
   "source": [
    "# Create an instance of MongoClient\n",
    "mongo = MongoClient(port=27017)"
   ]
  },
  {
   "cell_type": "code",
   "execution_count": 16,
   "metadata": {},
   "outputs": [
    {
     "name": "stdout",
     "output_type": "stream",
     "text": [
      "['Movies', 'admin', 'autosaurus', 'classDB', 'config', 'local', 'petsitly_marketing', 'uk_food']\n"
     ]
    }
   ],
   "source": [
    "# confirm that the \"Movies\" database is in MongoDB\n",
    "print(mongo.list_database_names())"
   ]
  },
  {
   "cell_type": "code",
   "execution_count": 17,
   "metadata": {},
   "outputs": [],
   "source": [
    "# assign the database to a variable name\n",
    "db = mongo['Movies']"
   ]
  },
  {
   "cell_type": "code",
   "execution_count": 18,
   "metadata": {},
   "outputs": [
    {
     "name": "stdout",
     "output_type": "stream",
     "text": [
      "['Basics', 'Title', 'Ratings']\n"
     ]
    }
   ],
   "source": [
    "# review the collections in our new database\n",
    "print(db.list_collection_names())"
   ]
  },
  {
   "cell_type": "code",
   "execution_count": 19,
   "metadata": {},
   "outputs": [],
   "source": [
    "# assign each collection to a variable\n",
    "basics = db['Basics']\n",
    "ratings = db['Ratings']\n",
    "title = db['Title']"
   ]
  },
  {
   "cell_type": "code",
   "execution_count": 20,
   "metadata": {},
   "outputs": [
    {
     "name": "stdout",
     "output_type": "stream",
     "text": [
      "8980304\n",
      "1446499\n",
      "40757180\n"
     ]
    }
   ],
   "source": [
    "# Display the number of documents in the collections\n",
    "print(basics.count_documents({}))\n",
    "print(ratings.count_documents({}))\n",
    "print(title.count_documents({}))"
   ]
  },
  {
   "cell_type": "code",
   "execution_count": 21,
   "metadata": {},
   "outputs": [
    {
     "data": {
      "text/plain": [
       "{'_id': ObjectId('666e08be9415265b1f822569'),\n",
       " 'tconst': 'tt0000001',\n",
       " 'titleType': 'short',\n",
       " 'primaryTitle': 'Carmencita',\n",
       " 'originalTitle': 'Carmencita',\n",
       " 'isAdult': 0,\n",
       " 'startYear': 1894,\n",
       " 'endYear': '\\\\N',\n",
       " 'runtimeMinutes': 1,\n",
       " 'genres': 'Documentary,Short'}"
      ]
     },
     "execution_count": 21,
     "metadata": {},
     "output_type": "execute_result"
    }
   ],
   "source": [
    "# Display first document in basics collecdocument\n",
    "basics.find_one()"
   ]
  },
  {
   "cell_type": "code",
   "execution_count": 22,
   "metadata": {},
   "outputs": [],
   "source": [
    "# documents = basics.find({'startYear':{'$type':'string',\"$ne\":None}})\n",
    "#for doc in documents:\n",
    " #   try:\n",
    "  #      start_year_int = int(doc['startYear'])\n",
    "   #     basics.update_one(\n",
    "    #        {\"_id\": doc['_id']},\n",
    "     #       {'$set':{'startYear': start_year_int}}\n",
    "      #  )\n",
    "   # except ValueError:\n",
    "    #    pass\n"
   ]
  },
  {
   "cell_type": "code",
   "execution_count": 23,
   "metadata": {},
   "outputs": [
    {
     "data": {
      "text/plain": [
       "{'_id': ObjectId('666b8999a05f5ae20bbdf1d0'),\n",
       " 'tconst': 'tt0000001',\n",
       " 'averageRating': 5.7,\n",
       " 'numVotes': 2059}"
      ]
     },
     "execution_count": 23,
     "metadata": {},
     "output_type": "execute_result"
    }
   ],
   "source": [
    "# Display first document in ratings collection\n",
    "ratings.find_one()"
   ]
  },
  {
   "cell_type": "code",
   "execution_count": 24,
   "metadata": {},
   "outputs": [
    {
     "data": {
      "text/plain": [
       "{'_id': ObjectId('666e0d029415265b1f0b2cc0'),\n",
       " 'titleId': 'tt0000001',\n",
       " 'ordering': 1,\n",
       " 'title': 'Carmencita',\n",
       " 'region': '\\\\N',\n",
       " 'language': '\\\\N',\n",
       " 'types': 'original',\n",
       " 'attributes': '\\\\N',\n",
       " 'isOriginalTitle': 1}"
      ]
     },
     "execution_count": 24,
     "metadata": {},
     "output_type": "execute_result"
    }
   ],
   "source": [
    "# Display first document in title collecction\n",
    "title.find_one()"
   ]
  },
  {
   "cell_type": "code",
   "execution_count": 25,
   "metadata": {},
   "outputs": [
    {
     "data": {
      "text/plain": [
       "1278098"
      ]
     },
     "execution_count": 25,
     "metadata": {},
     "output_type": "execute_result"
    }
   ],
   "source": [
    "# Create a query that finds the movies in the US region\n",
    "region_US = list(title.find({'region':'US'}))\n",
    "\n",
    "# Print the number of results\n",
    "len(region_US)"
   ]
  },
  {
   "cell_type": "code",
   "execution_count": 26,
   "metadata": {},
   "outputs": [],
   "source": [
    "start_year_after_1980 = list(basics.find({'startYear':{'$gt':1980}}))\n",
    "len(start_year_after_1980)\n",
    "                                         "
   ]
  },
  {
   "cell_type": "code",
   "execution_count": null,
   "metadata": {},
   "outputs": [
    {
     "name": "stdout",
     "output_type": "stream",
     "text": [
      "Rows in DataFrame:  1278098\n"
     ]
    },
    {
     "data": {
      "text/html": [
       "<div>\n",
       "<style scoped>\n",
       "    .dataframe tbody tr th:only-of-type {\n",
       "        vertical-align: middle;\n",
       "    }\n",
       "\n",
       "    .dataframe tbody tr th {\n",
       "        vertical-align: top;\n",
       "    }\n",
       "\n",
       "    .dataframe thead th {\n",
       "        text-align: right;\n",
       "    }\n",
       "</style>\n",
       "<table border=\"1\" class=\"dataframe\">\n",
       "  <thead>\n",
       "    <tr style=\"text-align: right;\">\n",
       "      <th></th>\n",
       "      <th>_id</th>\n",
       "      <th>titleId</th>\n",
       "      <th>ordering</th>\n",
       "      <th>title</th>\n",
       "      <th>region</th>\n",
       "      <th>language</th>\n",
       "      <th>types</th>\n",
       "      <th>attributes</th>\n",
       "      <th>isOriginalTitle</th>\n",
       "    </tr>\n",
       "  </thead>\n",
       "  <tbody>\n",
       "    <tr>\n",
       "      <th>0</th>\n",
       "      <td>666e0d029415265b1f0b2cc2</td>\n",
       "      <td>tt0000001</td>\n",
       "      <td>3</td>\n",
       "      <td>Carmencita</td>\n",
       "      <td>US</td>\n",
       "      <td>\\N</td>\n",
       "      <td>imdbDisplay</td>\n",
       "      <td>\\N</td>\n",
       "      <td>0</td>\n",
       "    </tr>\n",
       "    <tr>\n",
       "      <th>1</th>\n",
       "      <td>666e0d029415265b1f0b2ccd</td>\n",
       "      <td>tt0000002</td>\n",
       "      <td>6</td>\n",
       "      <td>The Clown and His Dogs</td>\n",
       "      <td>US</td>\n",
       "      <td>\\N</td>\n",
       "      <td>\\N</td>\n",
       "      <td>literal English title</td>\n",
       "      <td>0</td>\n",
       "    </tr>\n",
       "    <tr>\n",
       "      <th>2</th>\n",
       "      <td>666e0d029415265b1f0b2ce6</td>\n",
       "      <td>tt0000005</td>\n",
       "      <td>3</td>\n",
       "      <td>Blacksmith Scene</td>\n",
       "      <td>US</td>\n",
       "      <td>\\N</td>\n",
       "      <td>imdbDisplay</td>\n",
       "      <td>\\N</td>\n",
       "      <td>0</td>\n",
       "    </tr>\n",
       "    <tr>\n",
       "      <th>3</th>\n",
       "      <td>666e0d029415265b1f0b2ce8</td>\n",
       "      <td>tt0000005</td>\n",
       "      <td>5</td>\n",
       "      <td>Blacksmith Scene #1</td>\n",
       "      <td>US</td>\n",
       "      <td>\\N</td>\n",
       "      <td>alternative</td>\n",
       "      <td>\\N</td>\n",
       "      <td>0</td>\n",
       "    </tr>\n",
       "    <tr>\n",
       "      <th>4</th>\n",
       "      <td>666e0d029415265b1f0b2cea</td>\n",
       "      <td>tt0000005</td>\n",
       "      <td>7</td>\n",
       "      <td>Blacksmithing</td>\n",
       "      <td>US</td>\n",
       "      <td>\\N</td>\n",
       "      <td>\\N</td>\n",
       "      <td>informal alternative title</td>\n",
       "      <td>0</td>\n",
       "    </tr>\n",
       "  </tbody>\n",
       "</table>\n",
       "</div>"
      ],
      "text/plain": [
       "                        _id    titleId  ordering                   title  \\\n",
       "0  666e0d029415265b1f0b2cc2  tt0000001         3              Carmencita   \n",
       "1  666e0d029415265b1f0b2ccd  tt0000002         6  The Clown and His Dogs   \n",
       "2  666e0d029415265b1f0b2ce6  tt0000005         3        Blacksmith Scene   \n",
       "3  666e0d029415265b1f0b2ce8  tt0000005         5     Blacksmith Scene #1   \n",
       "4  666e0d029415265b1f0b2cea  tt0000005         7           Blacksmithing   \n",
       "\n",
       "  region language        types                  attributes  isOriginalTitle  \n",
       "0     US       \\N  imdbDisplay                          \\N                0  \n",
       "1     US       \\N           \\N       literal English title                0  \n",
       "2     US       \\N  imdbDisplay                          \\N                0  \n",
       "3     US       \\N  alternative                          \\N                0  \n",
       "4     US       \\N           \\N  informal alternative title                0  "
      ]
     },
     "execution_count": 13,
     "metadata": {},
     "output_type": "execute_result"
    }
   ],
   "source": [
    "title_region_US_df = pd.DataFrame(region_US)\n",
    "\n",
    "print ('Rows in DataFrame: ', len(title_region_US_df))\n",
    "title_region_US_df.head(5)"
   ]
  },
  {
   "cell_type": "code",
   "execution_count": null,
   "metadata": {},
   "outputs": [
    {
     "name": "stdout",
     "output_type": "stream",
     "text": [
      "Rows in DataFrame:  1446499\n"
     ]
    },
    {
     "data": {
      "text/html": [
       "<div>\n",
       "<style scoped>\n",
       "    .dataframe tbody tr th:only-of-type {\n",
       "        vertical-align: middle;\n",
       "    }\n",
       "\n",
       "    .dataframe tbody tr th {\n",
       "        vertical-align: top;\n",
       "    }\n",
       "\n",
       "    .dataframe thead th {\n",
       "        text-align: right;\n",
       "    }\n",
       "</style>\n",
       "<table border=\"1\" class=\"dataframe\">\n",
       "  <thead>\n",
       "    <tr style=\"text-align: right;\">\n",
       "      <th></th>\n",
       "      <th>_id</th>\n",
       "      <th>tconst</th>\n",
       "      <th>averageRating</th>\n",
       "      <th>numVotes</th>\n",
       "    </tr>\n",
       "  </thead>\n",
       "  <tbody>\n",
       "    <tr>\n",
       "      <th>0</th>\n",
       "      <td>666b8999a05f5ae20bbdf1d0</td>\n",
       "      <td>tt0000001</td>\n",
       "      <td>5.7</td>\n",
       "      <td>2059</td>\n",
       "    </tr>\n",
       "    <tr>\n",
       "      <th>1</th>\n",
       "      <td>666b8999a05f5ae20bbdf1d1</td>\n",
       "      <td>tt0000002</td>\n",
       "      <td>5.6</td>\n",
       "      <td>277</td>\n",
       "    </tr>\n",
       "    <tr>\n",
       "      <th>2</th>\n",
       "      <td>666b8999a05f5ae20bbdf1d2</td>\n",
       "      <td>tt0000003</td>\n",
       "      <td>6.5</td>\n",
       "      <td>2023</td>\n",
       "    </tr>\n",
       "    <tr>\n",
       "      <th>3</th>\n",
       "      <td>666b8999a05f5ae20bbdf1d3</td>\n",
       "      <td>tt0000004</td>\n",
       "      <td>5.3</td>\n",
       "      <td>180</td>\n",
       "    </tr>\n",
       "    <tr>\n",
       "      <th>4</th>\n",
       "      <td>666b8999a05f5ae20bbdf1d4</td>\n",
       "      <td>tt0000005</td>\n",
       "      <td>6.2</td>\n",
       "      <td>2787</td>\n",
       "    </tr>\n",
       "  </tbody>\n",
       "</table>\n",
       "</div>"
      ],
      "text/plain": [
       "                        _id     tconst  averageRating  numVotes\n",
       "0  666b8999a05f5ae20bbdf1d0  tt0000001            5.7      2059\n",
       "1  666b8999a05f5ae20bbdf1d1  tt0000002            5.6       277\n",
       "2  666b8999a05f5ae20bbdf1d2  tt0000003            6.5      2023\n",
       "3  666b8999a05f5ae20bbdf1d3  tt0000004            5.3       180\n",
       "4  666b8999a05f5ae20bbdf1d4  tt0000005            6.2      2787"
      ]
     },
     "execution_count": 22,
     "metadata": {},
     "output_type": "execute_result"
    }
   ],
   "source": [
    "ratings_list = list(ratings.find({}))\n",
    "ratings_df = pd.DataFrame(ratings_list)\n",
    "print ('Rows in DataFrame: ', len(ratings_df))\n",
    "ratings_df.head(5)\n",
    "\n"
   ]
  },
  {
   "cell_type": "code",
   "execution_count": 13,
   "metadata": {},
   "outputs": [
    {
     "ename": "AttributeError",
     "evalue": "'list' object has no attribute 'find'",
     "output_type": "error",
     "traceback": [
      "\u001b[1;31m---------------------------------------------------------------------------\u001b[0m",
      "\u001b[1;31mAttributeError\u001b[0m                            Traceback (most recent call last)",
      "Cell \u001b[1;32mIn[13], line 1\u001b[0m\n\u001b[1;32m----> 1\u001b[0m basics_list \u001b[38;5;241m=\u001b[39m \u001b[38;5;28mlist\u001b[39m(start_year_after_1980\u001b[38;5;241m.\u001b[39mfind({}))\n\u001b[0;32m      2\u001b[0m basics_df \u001b[38;5;241m=\u001b[39m pd\u001b[38;5;241m.\u001b[39mDataFrame(basics_list)\n\u001b[0;32m      3\u001b[0m \u001b[38;5;28mprint\u001b[39m (\u001b[38;5;124m'\u001b[39m\u001b[38;5;124mRows in DataFrame: \u001b[39m\u001b[38;5;124m'\u001b[39m, \u001b[38;5;28mlen\u001b[39m(basics_df))\n",
      "\u001b[1;31mAttributeError\u001b[0m: 'list' object has no attribute 'find'"
     ]
    }
   ],
   "source": [
    "basics_list = list(start_year_after_1980.find({}))\n",
    "basics_df = pd.DataFrame(basics_list)\n",
    "print ('Rows in DataFrame: ', len(basics_df))\n",
    "basics_df.head(5)"
   ]
  }
 ],
 "metadata": {
  "kernelspec": {
   "display_name": "base",
   "language": "python",
   "name": "python3"
  },
  "language_info": {
   "codemirror_mode": {
    "name": "ipython",
    "version": 3
   },
   "file_extension": ".py",
   "mimetype": "text/x-python",
   "name": "python",
   "nbconvert_exporter": "python",
   "pygments_lexer": "ipython3",
   "version": "3.11.7"
  }
 },
 "nbformat": 4,
 "nbformat_minor": 2
}
