{
 "cells": [
  {
   "cell_type": "code",
   "execution_count": 1,
   "metadata": {},
   "outputs": [],
   "source": [
    "# Import dependencies\n",
    "from pymongo import MongoClient\n",
    "from pprint import pprint\n",
    "import pandas as pd"
   ]
  },
  {
   "cell_type": "code",
   "execution_count": 2,
   "metadata": {},
   "outputs": [],
   "source": [
    "# Create an instance of MongoClient\n",
    "mongo = MongoClient(port=27017)"
   ]
  },
  {
   "cell_type": "code",
   "execution_count": 3,
   "metadata": {},
   "outputs": [
    {
     "name": "stdout",
     "output_type": "stream",
     "text": [
      "['Movies', 'admin', 'autosaurus', 'classDB', 'config', 'local', 'petsitly_marketing', 'uk_food']\n"
     ]
    }
   ],
   "source": [
    "# confirm that the \"Movies\" database is in MongoDB\n",
    "print(mongo.list_database_names())"
   ]
  },
  {
   "cell_type": "code",
   "execution_count": 4,
   "metadata": {},
   "outputs": [],
   "source": [
    "# assign the database to a variable name\n",
    "db = mongo['Movies']"
   ]
  },
  {
   "cell_type": "code",
   "execution_count": 5,
   "metadata": {},
   "outputs": [
    {
     "name": "stdout",
     "output_type": "stream",
     "text": [
      "['Basics', 'Title', 'Ratings']\n"
     ]
    }
   ],
   "source": [
    "# review the collections in our new database\n",
    "print(db.list_collection_names())"
   ]
  },
  {
   "cell_type": "code",
   "execution_count": 6,
   "metadata": {},
   "outputs": [],
   "source": [
    "# assign each collection to a variable\n",
    "basics = db['Basics']\n",
    "ratings = db['Ratings']\n",
    "title = db['Title']"
   ]
  },
  {
   "cell_type": "code",
   "execution_count": 7,
   "metadata": {},
   "outputs": [
    {
     "name": "stdout",
     "output_type": "stream",
     "text": [
      "8980304\n",
      "1446499\n",
      "40757180\n"
     ]
    }
   ],
   "source": [
    "# Display the number of documents in the collections\n",
    "print(basics.count_documents({}))\n",
    "print(ratings.count_documents({}))\n",
    "print(title.count_documents({}))"
   ]
  },
  {
   "cell_type": "code",
   "execution_count": 8,
   "metadata": {},
   "outputs": [
    {
     "data": {
      "text/plain": [
       "{'_id': ObjectId('666e08be9415265b1f822569'),\n",
       " 'tconst': 'tt0000001',\n",
       " 'titleType': 'short',\n",
       " 'primaryTitle': 'Carmencita',\n",
       " 'originalTitle': 'Carmencita',\n",
       " 'isAdult': 0,\n",
       " 'startYear': 1894,\n",
       " 'endYear': '\\\\N',\n",
       " 'runtimeMinutes': 1,\n",
       " 'genres': 'Documentary,Short'}"
      ]
     },
     "execution_count": 8,
     "metadata": {},
     "output_type": "execute_result"
    }
   ],
   "source": [
    "# Display first document in basics collecdocument\n",
    "basics.find_one()"
   ]
  },
  {
   "cell_type": "code",
   "execution_count": 9,
   "metadata": {},
   "outputs": [
    {
     "data": {
      "text/plain": [
       "{'_id': ObjectId('666b8999a05f5ae20bbdf1d0'),\n",
       " 'tconst': 'tt0000001',\n",
       " 'averageRating': 5.7,\n",
       " 'numVotes': 2059}"
      ]
     },
     "execution_count": 9,
     "metadata": {},
     "output_type": "execute_result"
    }
   ],
   "source": [
    "# Display first document in ratings collection\n",
    "ratings.find_one()"
   ]
  },
  {
   "cell_type": "code",
   "execution_count": 10,
   "metadata": {},
   "outputs": [
    {
     "data": {
      "text/plain": [
       "{'_id': ObjectId('666e0d029415265b1f0b2cc0'),\n",
       " 'titleId': 'tt0000001',\n",
       " 'ordering': 1,\n",
       " 'title': 'Carmencita',\n",
       " 'region': '\\\\N',\n",
       " 'language': '\\\\N',\n",
       " 'types': 'original',\n",
       " 'attributes': '\\\\N',\n",
       " 'isOriginalTitle': 1}"
      ]
     },
     "execution_count": 10,
     "metadata": {},
     "output_type": "execute_result"
    }
   ],
   "source": [
    "# Display first document in title collecction\n",
    "title.find_one()"
   ]
  },
  {
   "cell_type": "code",
   "execution_count": 11,
   "metadata": {},
   "outputs": [
    {
     "data": {
      "text/plain": [
       "1278098"
      ]
     },
     "execution_count": 11,
     "metadata": {},
     "output_type": "execute_result"
    }
   ],
   "source": [
    "# Create a query that finds the movies in the US region\n",
    "region_US = list(title.find({'region':'US'}))\n",
    "\n",
    "# Print the number of results\n",
    "len(region_US)"
   ]
  }
 ],
 "metadata": {
  "kernelspec": {
   "display_name": "base",
   "language": "python",
   "name": "python3"
  },
  "language_info": {
   "codemirror_mode": {
    "name": "ipython",
    "version": 3
   },
   "file_extension": ".py",
   "mimetype": "text/x-python",
   "name": "python",
   "nbconvert_exporter": "python",
   "pygments_lexer": "ipython3",
   "version": "3.11.7"
  }
 },
 "nbformat": 4,
 "nbformat_minor": 2
}
